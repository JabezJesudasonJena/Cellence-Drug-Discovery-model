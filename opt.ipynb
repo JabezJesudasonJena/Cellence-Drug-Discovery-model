{
 "cells": [
  {
   "cell_type": "markdown",
   "metadata": {},
   "source": [
    "![image.png](attachment:image.png)"
   ]
  },
  {
   "cell_type": "markdown",
   "metadata": {},
   "source": [
    "Cellence an Drug Discovery Model"
   ]
  },
  {
   "cell_type": "code",
   "execution_count": null,
   "metadata": {},
   "outputs": [],
   "source": [
    "from transformers import AutoTokenizer, AutoModelForCausalLM\n",
    "\n",
    "tokenizer = AutoTokenizer.from_pretrained(\n",
    "    \"jonghyunlee/MolGPT_long_context_pretrained-by-ZINC15\"\n",
    ")\n",
    "model = AutoModelForCausalLM.from_pretrained(\n",
    "    \"jonghyunlee/MolGPT_long_context_pretrained-by-ZINC15\"\n",
    ")\n",
    "\n",
    "\"\"\"\n",
    "    Python Function to Generate SMILES ! \n",
    "\"\"\"\n",
    "\n",
    "def generate_smiles(prompt=\"C\", max_length=60, num_return_sequences=100):\n",
    "    input_ids = tokenizer.encode(prompt, return_tensors='pt')\n",
    "    attention_mask = (input_ids != tokenizer.pad_token_id)\n",
    "    outputs = model.generate(\n",
    "        input_ids,\n",
    "        attention_mask=attention_mask,\n",
    "        do_sample=True,\n",
    "        top_k=50,\n",
    "        max_length=max_length,\n",
    "        num_return_sequences=num_return_sequences,\n",
    "        pad_token_id=tokenizer.eos_token_id\n",
    "    )\n",
    "    smiles_list = [tokenizer.decode(out, skip_special_tokens=True) for out in outputs]\n",
    "    return smiles_list\n",
    "\n",
    "#len_of_gen_smiles = int(input(\"Enter the Number of SMILES you want to Generate : \"))\n",
    "\n",
    "a = generate_smiles()\n",
    "print(a)"
   ]
  },
  {
   "cell_type": "code",
   "execution_count": null,
   "metadata": {},
   "outputs": [],
   "source": [
    "from rdkit import Chem\n",
    "from rdkit import RDLogger\n",
    "\n",
    "# Function to check the Vaild Smiles \n",
    "\n",
    "RDLogger.DisableLog('rdApp.*') \n",
    "\n",
    "def validate_smiles(smiles_list):\n",
    "    \"\"\"\n",
    "    This Function uses Rdkit to check the proper \n",
    "    \"\"\"\n",
    "    valid = set()\n",
    "    for s in smiles_list:\n",
    "        mol = Chem.MolFromSmiles(s)\n",
    "        if mol:\n",
    "            valid.add(Chem.MolToSmiles(mol))  # canonicalize\n",
    "    return list(valid)"
   ]
  },
  {
   "cell_type": "code",
   "execution_count": null,
   "metadata": {},
   "outputs": [],
   "source": [
    "generated = generate_smiles()\n",
    "print(\"Generated:\", generated)\n",
    "valid = validate_smiles(generated)\n",
    "print(\"Valid:\", valid)"
   ]
  },
  {
   "cell_type": "code",
   "execution_count": null,
   "metadata": {},
   "outputs": [],
   "source": [
    "from DeepPurpose import DTI as models\n",
    "from DeepPurpose import utils\n",
    "\n",
    "model = models.model_pretrained(model='CNN_CNN_BindingDB')\n",
    "\n",
    "def score_molecules(smiles_list, target_seq):\n",
    "    data = utils.data_process(\n",
    "        smiles_list,\n",
    "        [target_seq] * len(smiles_list),\n",
    "        y=[0] * len(smiles_list),  \n",
    "        drug_encoding=model.drug_encoding,\n",
    "        target_encoding=model.target_encoding,\n",
    "        split_method='no_split'\n",
    "    )\n",
    "\n",
    "    scores = model.predict(data)\n",
    "    results = list(zip(smiles_list, scores))\n",
    "    results.sort(key=lambda x: x[1], reverse=True)  \n",
    "    return results"
   ]
  },
  {
   "cell_type": "code",
   "execution_count": null,
   "metadata": {},
   "outputs": [],
   "source": [
    "target_seq = input(\"Enter the Valid Protein Sequence : \")\n",
    "v = valid\n",
    "aa = score_molecules(v, target_seq)\n",
    "\n",
    "for i, (smile, score) in enumerate(aa[:5], 1):\n",
    "    print(f\"{i}. SMILES: {smile[:60]}... | Score: {score:.4f}\")"
   ]
  },
  {
   "cell_type": "code",
   "execution_count": null,
   "metadata": {},
   "outputs": [],
   "source": [
    "import csv\n",
    "from datetime import datetime\n",
    "\n",
    "output_file = f\"ranked_smiles_{datetime.now().strftime('%Y%m%d_%H%M%S')}.csv\"\n",
    "\n",
    "with open(output_file, mode=\"w\", newline=\"\") as csvfile:\n",
    "    writer = csv.writer(csvfile)\n",
    "    writer.writerow([\"SMILES\", \"Binding Score\"])\n",
    "    for smiles, score in aa:\n",
    "        writer.writerow([smiles, score])"
   ]
  },
  {
   "cell_type": "code",
   "execution_count": null,
   "metadata": {},
   "outputs": [],
   "source": [
    "import csv\n",
    "from datetime import datetime\n",
    "from rdkit import Chem\n",
    "from rdkit.Chem import Descriptors, rdMolDescriptors\n",
    "\n",
    "def admet_properties_to_csv(smiles_list):\n",
    "    results = []\n",
    "\n",
    "    for smi in smiles_list:\n",
    "        mol = Chem.MolFromSmiles(smi)\n",
    "        if mol is None:\n",
    "            results.append({'SMILES': smi, 'Valid': False})\n",
    "            continue\n",
    "\n",
    "        mw = Descriptors.MolWt(mol)\n",
    "        logp = Descriptors.MolLogP(mol)\n",
    "        hbd = Descriptors.NumHDonors(mol)\n",
    "        hba = Descriptors.NumHAcceptors(mol)\n",
    "        tpsa = rdMolDescriptors.CalcTPSA(mol)\n",
    "        rot_bonds = rdMolDescriptors.CalcNumRotatableBonds(mol)\n",
    "\n",
    "        lipinski = (\n",
    "            mw <= 500 and\n",
    "            logp <= 5 and\n",
    "            hbd <= 5 and\n",
    "            hba <= 10\n",
    "        )\n",
    "\n",
    "        results.append({\n",
    "            'SMILES': smi,\n",
    "            'Valid': True,\n",
    "            'MW': round(mw, 2),\n",
    "            'LogP': round(logp, 2),\n",
    "            'HBD': hbd,\n",
    "            'HBA': hba,\n",
    "            'TPSA': round(tpsa, 2),\n",
    "            'RotatableBonds': rot_bonds,\n",
    "            'LipinskiPass': lipinski\n",
    "        })\n",
    "\n",
    "\n",
    "    timestamp = datetime.now().strftime('%Y-%m-%d_%H-%M-%S')\n",
    "    output_path = f\"admet_properties_{timestamp}.csv\"\n",
    "\n",
    "\n",
    "    fieldnames = results[0].keys()\n",
    "    with open(output_path, 'w', newline='') as f:\n",
    "        writer = csv.DictWriter(f, fieldnames=fieldnames)\n",
    "        writer.writeheader()\n",
    "        for row in results:\n",
    "            writer.writerow(row)\n",
    "\n",
    "    print(f\"The Adment Properties has been saved to {output_path}\")\n",
    "\n",
    "\n",
    "admet_properties_to_csv(v)\n"
   ]
  },
  {
   "cell_type": "code",
   "execution_count": null,
   "metadata": {},
   "outputs": [],
   "source": [
    "from rdkit import Chem\n",
    "from rdkit.Chem import Draw\n",
    "from datetime import datetime\n",
    "import os\n",
    "\n",
    "\n",
    "timestamp = datetime.now().strftime(\"%Y%m%d_%H%M%S\")\n",
    "folder = f\"smiles_img_{timestamp}\"\n",
    "os.makedirs(folder, exist_ok=True)\n",
    "\n",
    "for i, (smile, score) in enumerate(aa[:5], 1):\n",
    "    m = Chem.MolFromSmiles(smile)\n",
    "    img = Draw.MolToImage(m)\n",
    "    img.save(os.path.join(folder, f\"molecule_{i}.png\"))\n",
    "\n",
    "print(f\"Saved images in: {folder}\")\n"
   ]
  },
  {
   "cell_type": "markdown",
   "metadata": {},
   "source": [
    "Thank You ! \n",
    "\n",
    "for visiting my code ! \n"
   ]
  }
 ],
 "metadata": {
  "language_info": {
   "name": "python"
  }
 },
 "nbformat": 4,
 "nbformat_minor": 2
}
